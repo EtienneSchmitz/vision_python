{
 "cells": [
  {
   "cell_type": "markdown",
   "metadata": {},
   "source": [
    "# TP - Introduction aux méthodes de classification d’images"
   ]
  },
  {
   "cell_type": "markdown",
   "metadata": {},
   "source": [
    "## Manipulation d’un jeu de données"
   ]
  },
  {
   "cell_type": "code",
   "execution_count": 17,
   "metadata": {},
   "outputs": [
    {
     "name": "stdout",
     "output_type": "stream",
     "text": [
      "(150, 4) (150,)\n",
      "(112, 4) (112,)\n",
      "(38, 4) (38,)\n"
     ]
    }
   ],
   "source": [
    "import sklearn.datasets\n",
    "from sklearn.model_selection import train_test_split\n",
    "\n",
    "iris = sklearn.datasets.load_iris()\n",
    "X, y = iris.data, iris.target\n",
    "X_train, X_test, y_train, y_test = train_test_split(X, y, test_size=0.25)\n",
    "\n",
    "print(X.shape, y.shape)\n",
    "print(X_train.shape, y_train.shape)\n",
    "print(X_test.shape, y_test.shape)"
   ]
  },
  {
   "cell_type": "markdown",
   "metadata": {},
   "source": [
    "### Validations croisées\n",
    "\n",
    "#### Leave-One-Out\n",
    "\n",
    "Successivement, l'algorithme va choisir un élément à retirer de la liste de tout les éléments du jeu de donnée, qui va être utiliser pour le test. Les autres seront utilisés pour l'entraînement.\n",
    "On applique cet algorithme pour chaque élément."
   ]
  },
  {
   "cell_type": "code",
   "execution_count": 18,
   "metadata": {},
   "outputs": [
    {
     "name": "stdout",
     "output_type": "stream",
     "text": [
      "[1 2 3 4] [0]\n",
      "[0 2 3 4] [1]\n",
      "[0 1 3 4] [2]\n",
      "[0 1 2 4] [3]\n",
      "[0 1 2 3] [4]\n"
     ]
    }
   ],
   "source": [
    "from sklearn.model_selection import LeaveOneOut\n",
    "\n",
    "X = [1, 2, 3, 4, 5]\n",
    "loo = LeaveOneOut()\n",
    "for train, test in loo.split(X):\n",
    "    print(\"%s %s\" % (train, test))"
   ]
  },
  {
   "cell_type": "markdown",
   "metadata": {},
   "source": [
    "#### K-Fold\n",
    "\n",
    "Les éléments de jeu de données sont répartis dans k groupes. \n",
    "L'algorithme va choisir successivement un groupe qui sera utilisé pour le test,tandis que les autres seront utilisés pour l'entraînement."
   ]
  },
  {
   "cell_type": "code",
   "execution_count": 19,
   "metadata": {},
   "outputs": [
    {
     "name": "stdout",
     "output_type": "stream",
     "text": [
      "[0 1 2 3 4 5] [6 7 8 9]\n",
      "[0 1 2 6 7 8 9] [3 4 5]\n",
      "[3 4 5 6 7 8 9] [0 1 2]\n"
     ]
    }
   ],
   "source": [
    " from sklearn.model_selection import GroupKFold\n",
    "\n",
    "X = [0.1, 0.2, 2.2, 2.4, 2.3, 4.55, 5.8, 8.8, 9, 10]\n",
    "y = [\"a\", \"b\", \"b\", \"b\", \"c\", \"c\", \"c\", \"d\", \"d\", \"d\"]\n",
    "groups = [1, 1, 1, 2, 2, 2, 3, 3, 3, 3]\n",
    "\n",
    "gkf = GroupKFold(n_splits=3)\n",
    "for train, test in gkf.split(X, y, groups=groups):\n",
    "     print(\"%s %s\" % (train, test))"
   ]
  },
  {
   "cell_type": "markdown",
   "metadata": {},
   "source": [
    "#### Stratifield-K-Fold\n",
    "\n",
    "Le but est d'appliquer le l'algorithme k-fold tout en respectant la répartition (proportion) du nombres d'éléments de chaque classe\n",
    "Par exemple pour 2 classes de respectivement 10 éléments et 4 éléments, les groupes de k-folds auront une répartition de 10/14 et 4/14"
   ]
  },
  {
   "cell_type": "code",
   "execution_count": 27,
   "metadata": {},
   "outputs": [
    {
     "name": "stdout",
     "output_type": "stream",
     "text": [
      "Method Stratifield-K-Fold :\n",
      "\n",
      "train -  [30  3]   |   test -  [15  2]\n",
      "train -  [30  3]   |   test -  [15  2]\n",
      "train -  [30  4]   |   test -  [15  1]\n",
      "\n",
      "Method K fold :\n",
      "\n",
      "train -  [28  5]   |   test -  [17]\n",
      "train -  [28  5]   |   test -  [17]\n",
      "train -  [34]   |   test -  [11  5]\n"
     ]
    }
   ],
   "source": [
    "from sklearn.model_selection import StratifiedKFold, KFold\n",
    "import numpy as np\n",
    "X, y = np.ones((50, 1)), np.hstack(([0] * 45, [1] * 5))\n",
    "skf = StratifiedKFold(n_splits=3)\n",
    "\n",
    "print(\"Method Stratifield-K-Fold :\\n\")\n",
    "for train, test in skf.split(X, y):\n",
    "    print('train -  {}   |   test -  {}'.format(\n",
    "        np.bincount(y[train]), np.bincount(y[test])))\n",
    "print(\"\\nMethod K fold :\\n\")    \n",
    "kf = KFold(n_splits=3)\n",
    "for train, test in kf.split(X, y):\n",
    "    print('train -  {}   |   test -  {}'.format(\n",
    "        np.bincount(y[train]), np.bincount(y[test])))"
   ]
  },
  {
   "cell_type": "markdown",
   "metadata": {},
   "source": [
    "## Méthode des k plus proches voisins"
   ]
  },
  {
   "cell_type": "code",
   "execution_count": 63,
   "metadata": {},
   "outputs": [
    {
     "name": "stdout",
     "output_type": "stream",
     "text": [
      "[0 0 2 0 2 1 2 1 0 2 2 2 0 0 1 2 2 1 0 0 1 2 0 2 2 1 1 0 2 1 2 1 2 0 1 1 2\n",
      " 2 1 2 0 0 1 0 2 0 2 0 1 0 1 2 0 1 2 2 0 0 2 1 2 0 0 1 1 0 1 2 2 1 1 0 1 1\n",
      " 0]\n",
      "[0 0 2 0 2 1 2 1 0 2 1 2 0 0 1 2 2 1 0 0 1 2 0 2 2 1 1 0 2 1 2 1 2 0 1 1 2\n",
      " 2 1 2 0 0 1 0 1 0 2 0 1 0 1 2 0 1 2 2 0 0 2 1 2 0 0 1 1 0 1 2 1 1 1 0 1 1\n",
      " 0] \n",
      "\n",
      "0.96\n",
      "[[25  0  0]\n",
      " [ 0 24  3]\n",
      " [ 0  0 23]]\n",
      "[1.         1.         0.88461538]\n",
      "[1.         0.88888889 1.        ]\n"
     ]
    }
   ],
   "source": [
    "import sklearn.datasets\n",
    "import sklearn.metrics as skm\n",
    "from sklearn.model_selection import train_test_split\n",
    "from sklearn.neighbors import KNeighborsClassifier\n",
    "\n",
    "\n",
    "iris = sklearn.datasets.load_iris()\n",
    "X, y = iris.data, iris.target\n",
    "X_train, X_test, y_train, y_test = train_test_split(X, y, test_size=0.50)\n",
    "clf = KNeighborsClassifier(n_neighbors = 3)\n",
    "clf.fit(X_train, y_train)\n",
    "preds = clf.predict(X_test)\n",
    "print(preds)\n",
    "print(y_test, \"\\n\")\n",
    "\n",
    "print(skm.accuracy_score(y_test, preds))\n",
    "print(skm.confusion_matrix(y_test, preds))\n",
    "print(skm.precision_score(y_test, preds, average=None))\n",
    "print(skm.recall_score(y_test, preds, average=None))"
   ]
  },
  {
   "cell_type": "markdown",
   "metadata": {},
   "source": [
    "## Classifieur bayésien naïf"
   ]
  },
  {
   "cell_type": "code",
   "execution_count": 22,
   "metadata": {},
   "outputs": [
    {
     "name": "stdout",
     "output_type": "stream",
     "text": [
      "174.0\n",
      "0.9775280898876404\n",
      "0.7191011235955056\n"
     ]
    }
   ],
   "source": [
    "import sklearn.datasets\n",
    "from sklearn.model_selection import LeaveOneOut\n",
    "from sklearn.naive_bayes import GaussianNB\n",
    "import sklearn.metrics as skm\n",
    "\n",
    "from sklearn.model_selection import train_test_split\n",
    "from sklearn.neighbors import KNeighborsClassifier\n",
    "\n",
    "wine = sklearn.datasets.load_wine()\n",
    "wineX, wineY = wine.data, wine.target\n",
    "\n",
    "loo = LeaveOneOut()\n",
    "total = 0\n",
    "for train, test in loo.split(wineX):\n",
    "    gnb = GaussianNB()\n",
    "    trainWine = []\n",
    "    targetWine = []\n",
    "    for i in range(len(train)):\n",
    "        trainWine.append(wineX[train[i]])\n",
    "        targetWine.append(wineY[train[i]])\n",
    "    \n",
    "    gnb.fit(trainWine, targetWine)\n",
    "    preds = gnb.predict([wineX[test[0]]])\n",
    "    total = total + skm.accuracy_score([wineY[test[0]]], preds)\n",
    "\n",
    "print(total)\n",
    "print(total / len(wineX))\n",
    "\n",
    "\n",
    "X_train, X_test, y_train, y_test = train_test_split(wineX, wineY, test_size=0.50)\n",
    "clf = KNeighborsClassifier(n_neighbors = 3)\n",
    "clf.fit(X_train, y_train)\n",
    "preds = clf.predict(X_test)\n",
    "\n",
    "print(skm.accuracy_score(y_test, preds))"
   ]
  }
 ],
 "metadata": {
  "kernelspec": {
   "display_name": "Python 3",
   "language": "python",
   "name": "python3"
  },
  "language_info": {
   "codemirror_mode": {
    "name": "ipython",
    "version": 3
   },
   "file_extension": ".py",
   "mimetype": "text/x-python",
   "name": "python",
   "nbconvert_exporter": "python",
   "pygments_lexer": "ipython3",
   "version": "3.8.6"
  }
 },
 "nbformat": 4,
 "nbformat_minor": 4
}
